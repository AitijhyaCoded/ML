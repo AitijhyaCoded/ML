{
 "cells": [
  {
   "cell_type": "markdown",
   "id": "41bf0064",
   "metadata": {},
   "source": [
    "# SVM on Iris dataset to identify Versicolor flowers\n",
    "Steps:\n",
    "- list all imports\n",
    "- load dataset \n",
    "- find 2 best features (from pairplot or heatmap or knowledge) => _2 as 2D plot_ and define X\n",
    "- define y for Versicolor = 1, 0 otherwise\n",
    "- split dataset into train and test\n",
    "- scale (fit and transform training data)\n",
    "- perform svm and fit model\n",
    "- compare classification metrics for actual test targets and predicted targets\n",
    "- apply grid search cv and randomised search cv\n",
    "- find which one is better from cv score\n",
    "- compare classification metrics for actual test targets and cv predicted targets\n",
    "- decision boundary"
   ]
  },
  {
   "cell_type": "code",
   "execution_count": null,
   "id": "578bb8b7",
   "metadata": {},
   "outputs": [],
   "source": [
    "import numpy as np\n",
    "import matplotlib.pyplot as plt\n",
    "from matplotlib.colors import ListedColormap\n",
    "# import seaborn as sns\n",
    "# import pandas as pd\n",
    "from sklearn.datasets import load_iris\n",
    "from sklearn.model_selection import train_test_split, GridSearchCV, RandomizedSearchCV\n",
    "from sklearn.preprocessing import StandardScaler\n",
    "from sklearn.svm import SVC\n",
    "from sklearn.metrics import confusion_matrix, accuracy_score, classification_report"
   ]
  },
  {
   "cell_type": "code",
   "execution_count": 8,
   "id": "3e10ac22",
   "metadata": {},
   "outputs": [],
   "source": [
    "iris=load_iris()\n",
    "# df=pd.DataFrame(iris.data)\n",
    "# sns.pairplot(df)\n",
    "X,y=iris.data[:, [2,3]],(iris.target==1).astype(int)"
   ]
  },
  {
   "cell_type": "code",
   "execution_count": 9,
   "id": "fb16cc59",
   "metadata": {},
   "outputs": [],
   "source": [
    "X_train, X_test, y_train, y_test = train_test_split(X, y, test_size=0.3, random_state=42)\n",
    "scaler=StandardScaler()\n",
    "X_train=scaler.fit_transform(X_train)\n",
    "X_test=scaler.transform(X_test)"
   ]
  },
  {
   "cell_type": "code",
   "execution_count": 10,
   "id": "576db221",
   "metadata": {},
   "outputs": [
    {
     "name": "stdout",
     "output_type": "stream",
     "text": [
      "Accuracy: 1.0\n",
      "Confusion Matrix:\n",
      " [[32  0]\n",
      " [ 0 13]]\n",
      "Classification Report:\n",
      "               precision    recall  f1-score   support\n",
      "\n",
      "           0       1.00      1.00      1.00        32\n",
      "           1       1.00      1.00      1.00        13\n",
      "\n",
      "    accuracy                           1.00        45\n",
      "   macro avg       1.00      1.00      1.00        45\n",
      "weighted avg       1.00      1.00      1.00        45\n",
      "\n"
     ]
    }
   ],
   "source": [
    "svm=SVC()\n",
    "svm.fit(X_train,y_train)\n",
    "y_pred=svm.predict(X_test)\n",
    "print(\"Accuracy:\", accuracy_score(y_test, y_pred))\n",
    "print(\"Confusion Matrix:\\n\", confusion_matrix(y_test, y_pred))\n",
    "print(\"Classification Report:\\n\", classification_report(y_test, y_pred))"
   ]
  },
  {
   "cell_type": "code",
   "execution_count": 16,
   "id": "161bc867",
   "metadata": {},
   "outputs": [
    {
     "name": "stdout",
     "output_type": "stream",
     "text": [
      "Best Parameters: {'C': 1, 'gamma': 0.1, 'kernel': 'rbf'}\n",
      "Best CV Score: 0.9428571428571428\n"
     ]
    }
   ],
   "source": [
    "param_grid={\n",
    "    'C': [0.1, 1, 10], \n",
    "    'gamma': [0.001, 0.01, 0.1], \n",
    "    'kernel': ['rbf', 'linear', 'poly']\n",
    "}\n",
    "grid=GridSearchCV(svm,param_grid,cv=5)\n",
    "grid.fit(X_train,y_train)\n",
    "print(\"Best Parameters:\", grid.best_params_)\n",
    "print(\"Best CV Score:\", grid.best_score_)"
   ]
  },
  {
   "cell_type": "code",
   "execution_count": 18,
   "id": "e6207f0a",
   "metadata": {},
   "outputs": [
    {
     "name": "stdout",
     "output_type": "stream",
     "text": [
      "Best Parameters: {'kernel': 'poly', 'gamma': np.float64(3.593813663804626), 'C': np.float64(35.93813663804626)}\n",
      "Best CV Score: 0.8\n"
     ]
    }
   ],
   "source": [
    "param_grid={\n",
    "    'C': np.logspace(-2,2,10), \n",
    "    'gamma': np.logspace(-3,1,10), \n",
    "    'kernel': ['rbf', 'linear', 'poly']\n",
    "}\n",
    "grid=RandomizedSearchCV(svm,param_grid,cv=5,n_iter=10,random_state=42)\n",
    "grid.fit(X_train,y_train)\n",
    "print(\"Best Parameters:\", grid.best_params_)\n",
    "print(\"Best CV Score:\", grid.best_score_)"
   ]
  },
  {
   "cell_type": "code",
   "execution_count": 19,
   "id": "c9c520a9",
   "metadata": {},
   "outputs": [
    {
     "name": "stdout",
     "output_type": "stream",
     "text": [
      "Final Accuracy: 0.8444444444444444\n",
      "Confusion Matrix:\n",
      " [[25  7]\n",
      " [ 0 13]]\n",
      "Classification Report:\n",
      "               precision    recall  f1-score   support\n",
      "\n",
      "           0       1.00      0.78      0.88        32\n",
      "           1       0.65      1.00      0.79        13\n",
      "\n",
      "    accuracy                           0.84        45\n",
      "   macro avg       0.82      0.89      0.83        45\n",
      "weighted avg       0.90      0.84      0.85        45\n",
      "\n"
     ]
    }
   ],
   "source": [
    "# Use best model from GridSearch\n",
    "best_model = grid.best_estimator_\n",
    "y_pred_best = best_model.predict(X_test)\n",
    "\n",
    "print(\"Final Accuracy:\", accuracy_score(y_test, y_pred_best))\n",
    "print(\"Confusion Matrix:\\n\", confusion_matrix(y_test, y_pred_best))\n",
    "print(\"Classification Report:\\n\", classification_report(y_test, y_pred_best))"
   ]
  },
  {
   "cell_type": "code",
   "execution_count": null,
   "id": "2c3b03e2",
   "metadata": {},
   "outputs": [],
   "source": []
  }
 ],
 "metadata": {
  "kernelspec": {
   "display_name": "Python 3",
   "language": "python",
   "name": "python3"
  },
  "language_info": {
   "codemirror_mode": {
    "name": "ipython",
    "version": 3
   },
   "file_extension": ".py",
   "mimetype": "text/x-python",
   "name": "python",
   "nbconvert_exporter": "python",
   "pygments_lexer": "ipython3",
   "version": "3.11.5"
  }
 },
 "nbformat": 4,
 "nbformat_minor": 5
}
